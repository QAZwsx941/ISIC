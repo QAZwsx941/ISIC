{
 "cells": [
  {
   "cell_type": "code",
   "execution_count": 1,
   "id": "f3cab0c7",
   "metadata": {
    "pycharm": {
     "name": "#%%\n"
    }
   },
   "outputs": [],
   "source": [
    "import os\n",
    "import glob\n",
    "import numpy as np\n",
    "from PIL import Image\n",
    "\n",
    "# Set the path to the folder containing the .npy files\n",
    "folder_path = '../imgs'\n",
    "\n",
    "# Get a list of all .npy files in the folder\n",
    "npy_files = glob.glob(os.path.join(folder_path, '*.npy'))\n",
    "\n",
    "# Loop over each .npy file and convert it to a .png file\n",
    "for npy_file in npy_files:\n",
    "    # Load the .npy file\n",
    "    data = np.load(npy_file)\n",
    "\n",
    "    # Convert the data to a Pillow image object\n",
    "    image = Image.fromarray(data)\n",
    "\n",
    "    # Set the output file path and name\n",
    "    png_file = os.path.splitext(npy_file)[0] + '.png'\n",
    "\n",
    "    # Save the image as a PNG file\n",
    "    image.save(png_file)\n"
   ]
  },
  {
   "cell_type": "code",
   "execution_count": null,
   "outputs": [],
   "source": [],
   "metadata": {
    "collapsed": false,
    "pycharm": {
     "name": "#%%\n"
    }
   }
  },
  {
   "cell_type": "code",
   "execution_count": null,
   "outputs": [],
   "source": [],
   "metadata": {
    "collapsed": false,
    "pycharm": {
     "name": "#%%\n"
    }
   }
  }
 ],
 "metadata": {
  "kernelspec": {
   "display_name": "py3.7",
   "language": "python",
   "name": "py3.7"
  },
  "language_info": {
   "codemirror_mode": {
    "name": "ipython",
    "version": 3
   },
   "file_extension": ".py",
   "mimetype": "text/x-python",
   "name": "python",
   "nbconvert_exporter": "python",
   "pygments_lexer": "ipython3",
   "version": "3.7.16"
  }
 },
 "nbformat": 4,
 "nbformat_minor": 5
}